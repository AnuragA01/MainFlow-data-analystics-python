{
  "nbformat": 4,
  "nbformat_minor": 0,
  "metadata": {
    "colab": {
      "provenance": [],
      "authorship_tag": "ABX9TyM+/Zed8Lkv86tB2jsgJN5v",
      "include_colab_link": true
    },
    "kernelspec": {
      "name": "python3",
      "display_name": "Python 3"
    },
    "language_info": {
      "name": "python"
    }
  },
  "cells": [
    {
      "cell_type": "markdown",
      "metadata": {
        "id": "view-in-github",
        "colab_type": "text"
      },
      "source": [
        "<a href=\"https://colab.research.google.com/github/AnuragA01/MainFlow-data-analystics-python/blob/main/Task1.ipynb\" target=\"_parent\"><img src=\"https://colab.research.google.com/assets/colab-badge.svg\" alt=\"Open In Colab\"/></a>"
      ]
    },
    {
      "cell_type": "code",
      "execution_count": null,
      "metadata": {
        "colab": {
          "base_uri": "https://localhost:8080/"
        },
        "id": "-YIh8BlXofW0",
        "outputId": "a513bb3f-25c4-451a-dbcf-e97cfbeb8466"
      },
      "outputs": [
        {
          "output_type": "stream",
          "name": "stdout",
          "text": [
            "list: [0, 1, 2, 3, 4]\n"
          ]
        }
      ],
      "source": [
        "list = [0, 1, 2, 3, 4]\n",
        "print(\"list:\", list)\n"
      ]
    },
    {
      "cell_type": "code",
      "source": [
        "list.append(6)\n",
        "print(\"adding an element:\", list)"
      ],
      "metadata": {
        "colab": {
          "base_uri": "https://localhost:8080/"
        },
        "id": "ia4CauDjowTM",
        "outputId": "154435fe-e963-4ea1-da00-fc177b765590"
      },
      "execution_count": null,
      "outputs": [
        {
          "output_type": "stream",
          "name": "stdout",
          "text": [
            "adding an element: [0, 1, 2, 3, 4, 5, 6]\n"
          ]
        }
      ]
    },
    {
      "cell_type": "code",
      "source": [
        "list.remove(0)\n",
        "print(\"removing an element:\", list)"
      ],
      "metadata": {
        "colab": {
          "base_uri": "https://localhost:8080/"
        },
        "id": "F6s9oPMUo5ON",
        "outputId": "17645d7f-c2cc-433e-a082-c4879c9608cc"
      },
      "execution_count": null,
      "outputs": [
        {
          "output_type": "stream",
          "name": "stdout",
          "text": [
            "removing an element: [1, 2, 3, 4, 5, 6]\n"
          ]
        }
      ]
    },
    {
      "cell_type": "code",
      "source": [
        "list.insert(2, 10)\n",
        "print(\"inserting an element:\", list)"
      ],
      "metadata": {
        "colab": {
          "base_uri": "https://localhost:8080/"
        },
        "id": "em_HKbJUpDF6",
        "outputId": "4ed6da59-5782-49ea-8397-e8872bd85b6c"
      },
      "execution_count": null,
      "outputs": [
        {
          "output_type": "stream",
          "name": "stdout",
          "text": [
            "inserting an element: [1, 2, 10, 3, 4, 5, 6]\n"
          ]
        }
      ]
    },
    {
      "cell_type": "code",
      "source": [
        "list.extend([7, 8, 9])\n",
        "print(\"extending with another list:\", list)"
      ],
      "metadata": {
        "colab": {
          "base_uri": "https://localhost:8080/"
        },
        "id": "Zwv-fRUtpLSO",
        "outputId": "14cc41b2-7694-4746-8e33-e6b8ceca9a0f"
      },
      "execution_count": null,
      "outputs": [
        {
          "output_type": "stream",
          "name": "stdout",
          "text": [
            "extending with another list: [1, 2, 10, 3, 4, 5, 6, 7, 8, 9]\n"
          ]
        }
      ]
    },
    {
      "cell_type": "code",
      "source": [
        "list[2] = 15\n",
        "print(\"modifying an element:\", list)"
      ],
      "metadata": {
        "colab": {
          "base_uri": "https://localhost:8080/"
        },
        "id": "dUxfooG5pSNN",
        "outputId": "6e1c4fc8-ff17-4245-f87d-8f2865c995f8"
      },
      "execution_count": null,
      "outputs": [
        {
          "output_type": "stream",
          "name": "stdout",
          "text": [
            "modifying an element: [1, 2, 15, 3, 4, 5, 6, 7, 8, 9]\n"
          ]
        }
      ]
    },
    {
      "cell_type": "code",
      "source": [
        "print(\"Popped element:\", list.pop())\n",
        "print(\"List after popping an element:\", list)\n"
      ],
      "metadata": {
        "colab": {
          "base_uri": "https://localhost:8080/"
        },
        "id": "hNYv9d0epVaN",
        "outputId": "8d5fa2d2-7630-4253-b81e-c0e5cee3835a"
      },
      "execution_count": null,
      "outputs": [
        {
          "output_type": "stream",
          "name": "stdout",
          "text": [
            "Popped element: 9\n",
            "List after popping an element: [1, 2, 15, 3, 4, 5, 6, 7, 8]\n"
          ]
        }
      ]
    },
    {
      "cell_type": "code",
      "source": [
        "list.clear()\n",
        "print(\"clearing all elements:\", list)"
      ],
      "metadata": {
        "colab": {
          "base_uri": "https://localhost:8080/"
        },
        "id": "noCd9_FYpZy9",
        "outputId": "7fd212af-2132-47c5-9e8d-a751c2807725"
      },
      "execution_count": null,
      "outputs": [
        {
          "output_type": "stream",
          "name": "stdout",
          "text": [
            "clearing all elements: []\n"
          ]
        }
      ]
    },
    {
      "cell_type": "code",
      "source": [
        "dict = {'id': 123, 'name':'Anurag', 'gender':'male'}\n",
        "print(\"dictionary:\",dict)"
      ],
      "metadata": {
        "colab": {
          "base_uri": "https://localhost:8080/"
        },
        "id": "PURve5z2pdgO",
        "outputId": "3ca87cfc-172a-4326-9b5f-4b6feb708603"
      },
      "execution_count": null,
      "outputs": [
        {
          "output_type": "stream",
          "name": "stdout",
          "text": [
            "dictionary: {'id': 123, 'name': 'Anurag', 'gender': 'male'}\n"
          ]
        }
      ]
    },
    {
      "cell_type": "code",
      "source": [
        "dict['age'] = 21\n",
        "print(\"adding an element:\", dict)"
      ],
      "metadata": {
        "colab": {
          "base_uri": "https://localhost:8080/"
        },
        "id": "UmbjJogXpivM",
        "outputId": "19d3d945-badc-4289-dc5c-75f6e8b7be4c"
      },
      "execution_count": null,
      "outputs": [
        {
          "output_type": "stream",
          "name": "stdout",
          "text": [
            "adding an element: {'id': 123, 'name': 'Anurag', 'gender': 'male', 'age': 21}\n"
          ]
        }
      ]
    },
    {
      "cell_type": "code",
      "source": [
        "del dict['gender']\n",
        "print(\"removing an element:\", dict)"
      ],
      "metadata": {
        "colab": {
          "base_uri": "https://localhost:8080/"
        },
        "id": "tAV6Ix6cpmj9",
        "outputId": "a860dd25-55cd-43cd-f03f-be777b2f8415"
      },
      "execution_count": null,
      "outputs": [
        {
          "output_type": "stream",
          "name": "stdout",
          "text": [
            "removing an element: {'id': 123, 'name': 'Anurag', 'age': 21}\n"
          ]
        }
      ]
    },
    {
      "cell_type": "code",
      "source": [
        "dict.update({'Batch': 'A', 'email': 'xyz@gmail.com'})\n",
        "print(\"updating with another dictionary:\", dict)"
      ],
      "metadata": {
        "colab": {
          "base_uri": "https://localhost:8080/"
        },
        "id": "d8uNgqbNpqF2",
        "outputId": "4e904033-ef42-4738-ad82-31ca6f8b557d"
      },
      "execution_count": null,
      "outputs": [
        {
          "output_type": "stream",
          "name": "stdout",
          "text": [
            "updating with another dictionary: {'id': 123, 'name': 'Anurag', 'age': 21, 'Batch': 'A', 'email': 'xyz@gmail.com'}\n"
          ]
        }
      ]
    },
    {
      "cell_type": "code",
      "source": [
        "print(\"Removed value using pop:\", dict.pop('email'))\n",
        "print(\"Dictionary after popping an element:\", dict)"
      ],
      "metadata": {
        "colab": {
          "base_uri": "https://localhost:8080/"
        },
        "id": "0uIg1CVvpuC9",
        "outputId": "d4ded896-871d-442d-d3ad-23be8aaadf69"
      },
      "execution_count": null,
      "outputs": [
        {
          "output_type": "stream",
          "name": "stdout",
          "text": [
            "Removed value using pop: xyz@gmail.com\n",
            "Dictionary after popping an element: {'id': 123, 'name': 'Anurag', 'age': 21, 'Batch': 'A'}\n"
          ]
        }
      ]
    },
    {
      "cell_type": "code",
      "source": [
        "dict.clear()\n",
        "print(\"clearing all elements:\", dict)"
      ],
      "metadata": {
        "colab": {
          "base_uri": "https://localhost:8080/"
        },
        "id": "6EYwfITIpwd3",
        "outputId": "9427350c-9eaf-4d4a-d589-dd77137cbc1b"
      },
      "execution_count": null,
      "outputs": [
        {
          "output_type": "stream",
          "name": "stdout",
          "text": [
            "clearing all elements: {}\n"
          ]
        }
      ]
    },
    {
      "cell_type": "code",
      "source": [
        "set = {1, 2, 3, 4, 5}\n",
        "print(\"set:\", set)"
      ],
      "metadata": {
        "colab": {
          "base_uri": "https://localhost:8080/"
        },
        "id": "bCm3bTm7pym1",
        "outputId": "bf1d3ac2-de09-44da-ae94-7cca7b91f163"
      },
      "execution_count": null,
      "outputs": [
        {
          "output_type": "stream",
          "name": "stdout",
          "text": [
            "set: {1, 2, 3, 4, 5}\n"
          ]
        }
      ]
    },
    {
      "cell_type": "code",
      "source": [
        "set.add(11)\n",
        "print(\"adding an element:\", set)"
      ],
      "metadata": {
        "colab": {
          "base_uri": "https://localhost:8080/"
        },
        "id": "k84FDFHxp2fV",
        "outputId": "227bc8ca-a154-4b4d-9339-a06757738244"
      },
      "execution_count": null,
      "outputs": [
        {
          "output_type": "stream",
          "name": "stdout",
          "text": [
            "adding an element: {1, 2, 3, 4, 5, 11}\n"
          ]
        }
      ]
    },
    {
      "cell_type": "code",
      "source": [
        "set.remove(4)\n",
        "print(\"removing an element:\", set)"
      ],
      "metadata": {
        "colab": {
          "base_uri": "https://localhost:8080/"
        },
        "id": "zhoJyrAup5Xt",
        "outputId": "9bb65b88-4e3c-4b9c-d70d-d1a8a56c2d19"
      },
      "execution_count": null,
      "outputs": [
        {
          "output_type": "stream",
          "name": "stdout",
          "text": [
            "removing an element: {1, 2, 3, 5, 11}\n"
          ]
        }
      ]
    },
    {
      "cell_type": "code",
      "source": [
        "print(\"Popped element from set:\", set.pop())\n",
        "print(\"Set after popping an element:\", set)"
      ],
      "metadata": {
        "colab": {
          "base_uri": "https://localhost:8080/"
        },
        "id": "9mqMDbUup6U1",
        "outputId": "f920ba14-ad65-40b5-c4f2-0ff3834c7c73"
      },
      "execution_count": null,
      "outputs": [
        {
          "output_type": "stream",
          "name": "stdout",
          "text": [
            "Popped element from set: 1\n",
            "Set after popping an element: {2, 3, 5, 11}\n"
          ]
        }
      ]
    },
    {
      "cell_type": "code",
      "source": [
        "another_set = {5, 6, 7, 8}\n",
        "union_set = set.union(another_set)\n",
        "print(\"Union of sets:\", union_set)"
      ],
      "metadata": {
        "colab": {
          "base_uri": "https://localhost:8080/"
        },
        "id": "NmvLIl4fp-Xe",
        "outputId": "cdf95df0-076f-4749-9eb6-50e9e87a9ed3"
      },
      "execution_count": null,
      "outputs": [
        {
          "output_type": "stream",
          "name": "stdout",
          "text": [
            "Union of sets: {2, 3, 5, 6, 7, 8, 11}\n"
          ]
        }
      ]
    },
    {
      "cell_type": "code",
      "source": [
        "print(\"Intersection of sets:\", set.intersection(another_set))"
      ],
      "metadata": {
        "colab": {
          "base_uri": "https://localhost:8080/"
        },
        "id": "lxMTMhiVqBG2",
        "outputId": "288f090f-0fbe-4df1-daa6-94c191751459"
      },
      "execution_count": null,
      "outputs": [
        {
          "output_type": "stream",
          "name": "stdout",
          "text": [
            "Intersection of sets: {5}\n"
          ]
        }
      ]
    },
    {
      "cell_type": "code",
      "source": [
        "print(\"Difference of sets:\", set.difference(another_set))"
      ],
      "metadata": {
        "colab": {
          "base_uri": "https://localhost:8080/"
        },
        "id": "lLaA0i_vqCqF",
        "outputId": "e1a02e24-8b77-4ae0-e680-6c63bc617707"
      },
      "execution_count": null,
      "outputs": [
        {
          "output_type": "stream",
          "name": "stdout",
          "text": [
            "Difference of sets: {11, 2, 3}\n"
          ]
        }
      ]
    },
    {
      "cell_type": "code",
      "source": [
        "set.clear()\n",
        "print(\"Set after clearing all elements:\", set)"
      ],
      "metadata": {
        "colab": {
          "base_uri": "https://localhost:8080/"
        },
        "id": "jyKyAf9AqHx1",
        "outputId": "d28c107d-55e5-4927-ef7a-dd42b17fc287"
      },
      "execution_count": null,
      "outputs": [
        {
          "output_type": "stream",
          "name": "stdout",
          "text": [
            "Set after clearing all elements: set()\n"
          ]
        }
      ]
    }
  ]
}